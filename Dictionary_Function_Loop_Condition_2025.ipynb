{
  "nbformat": 4,
  "nbformat_minor": 0,
  "metadata": {
    "kernelspec": {
      "display_name": "Python 3",
      "language": "python",
      "name": "python3"
    },
    "language_info": {
      "codemirror_mode": {
        "name": "ipython",
        "version": 3
      },
      "file_extension": ".py",
      "mimetype": "text/x-python",
      "name": "python",
      "nbconvert_exporter": "python",
      "pygments_lexer": "ipython3",
      "version": "3.7.4"
    },
    "colab": {
      "provenance": [],
      "collapsed_sections": [
        "oITTicUPUtis",
        "IoLKzfaDUQTs",
        "QalIzYlcYeBU"
      ],
      "toc_visible": true,
      "include_colab_link": true
    }
  },
  "cells": [
    {
      "cell_type": "markdown",
      "metadata": {
        "id": "view-in-github",
        "colab_type": "text"
      },
      "source": [
        "<a href=\"https://colab.research.google.com/github/kittanaiwisetkhro/dataviz2025/blob/main/Dictionary_Function_Loop_Condition_2025.ipynb\" target=\"_parent\"><img src=\"https://colab.research.google.com/assets/colab-badge.svg\" alt=\"Open In Colab\"/></a>"
      ]
    },
    {
      "cell_type": "markdown",
      "source": [
        "HW1 note"
      ],
      "metadata": {
        "id": "2wnVRxt7Qw8x"
      }
    },
    {
      "cell_type": "code",
      "source": [
        "inp = '12:30:15-13:41:07'\n",
        "inp_list = inp.split('-')\n",
        "inp_list"
      ],
      "metadata": {
        "colab": {
          "base_uri": "https://localhost:8080/"
        },
        "id": "7b9PZ1gTQ0EA",
        "outputId": "b9f21012-312d-450a-dec1-1ecc4893a91c"
      },
      "execution_count": null,
      "outputs": [
        {
          "output_type": "execute_result",
          "data": {
            "text/plain": [
              "['12:30:15', '13:41:07']"
            ]
          },
          "metadata": {},
          "execution_count": 1
        }
      ]
    },
    {
      "cell_type": "markdown",
      "source": [
        "# Dict"
      ],
      "metadata": {
        "id": "oITTicUPUtis"
      }
    },
    {
      "cell_type": "code",
      "source": [
        "dict_a = {'abc': 123, 'def': 456, 'ghi': 789}"
      ],
      "metadata": {
        "id": "OPmft_b1Syb9"
      },
      "execution_count": 1,
      "outputs": []
    },
    {
      "cell_type": "code",
      "source": [
        "dict_a"
      ],
      "metadata": {
        "colab": {
          "base_uri": "https://localhost:8080/"
        },
        "id": "dE4N61GeTQMV",
        "outputId": "60ba1fe5-5651-4c95-9c5f-f6243005c400"
      },
      "execution_count": 2,
      "outputs": [
        {
          "output_type": "execute_result",
          "data": {
            "text/plain": [
              "{'abc': 123, 'def': 456, 'ghi': 789}"
            ]
          },
          "metadata": {},
          "execution_count": 2
        }
      ]
    },
    {
      "cell_type": "code",
      "source": [
        "dict_a['def']"
      ],
      "metadata": {
        "colab": {
          "base_uri": "https://localhost:8080/"
        },
        "id": "pDZPi6YLTTl1",
        "outputId": "a61a9a84-065f-43e5-f75b-7e434993c68e"
      },
      "execution_count": 3,
      "outputs": [
        {
          "output_type": "execute_result",
          "data": {
            "text/plain": [
              "456"
            ]
          },
          "metadata": {},
          "execution_count": 3
        }
      ]
    },
    {
      "cell_type": "code",
      "source": [
        "dict_b = {}"
      ],
      "metadata": {
        "id": "zX4cZsNFTYds"
      },
      "execution_count": 4,
      "outputs": []
    },
    {
      "cell_type": "code",
      "source": [
        "#add\n",
        "dict_b['a'] = 123"
      ],
      "metadata": {
        "id": "jNSEldrlTl-9"
      },
      "execution_count": 14,
      "outputs": []
    },
    {
      "cell_type": "code",
      "source": [
        "dict_b"
      ],
      "metadata": {
        "colab": {
          "base_uri": "https://localhost:8080/"
        },
        "id": "8xl9br80Tvvu",
        "outputId": "e3f0ae20-1087-4435-e0f7-af8ecabe7b51"
      },
      "execution_count": 15,
      "outputs": [
        {
          "output_type": "execute_result",
          "data": {
            "text/plain": [
              "{'a': 123}"
            ]
          },
          "metadata": {},
          "execution_count": 15
        }
      ]
    },
    {
      "cell_type": "code",
      "source": [
        "dict_b['a'] = 567"
      ],
      "metadata": {
        "id": "HKO_irfuUIXN"
      },
      "execution_count": 16,
      "outputs": []
    },
    {
      "cell_type": "code",
      "source": [
        "dict_b"
      ],
      "metadata": {
        "colab": {
          "base_uri": "https://localhost:8080/"
        },
        "id": "1PQ8hF8fUMNr",
        "outputId": "364a9139-6f55-4bef-d17a-48e8f7e3f7b3"
      },
      "execution_count": 17,
      "outputs": [
        {
          "output_type": "execute_result",
          "data": {
            "text/plain": [
              "{'a': 567}"
            ]
          },
          "metadata": {},
          "execution_count": 17
        }
      ]
    },
    {
      "cell_type": "code",
      "source": [],
      "metadata": {
        "id": "DVRjLpysUPfk"
      },
      "execution_count": null,
      "outputs": []
    },
    {
      "cell_type": "markdown",
      "source": [
        "## การ Add สมาชิกเข้าไปใน dict"
      ],
      "metadata": {
        "id": "IoLKzfaDUQTs"
      }
    },
    {
      "cell_type": "code",
      "source": [
        "if 'b' not in dict_b:\n",
        "    dict_b['b'] = 123"
      ],
      "metadata": {
        "id": "3x1LkoY7Ucnl"
      },
      "execution_count": 18,
      "outputs": []
    },
    {
      "cell_type": "code",
      "source": [
        "dict_b"
      ],
      "metadata": {
        "colab": {
          "base_uri": "https://localhost:8080/"
        },
        "id": "xGc5EpIMUjFc",
        "outputId": "56a31d45-418e-4521-f255-880136d7bee9"
      },
      "execution_count": 19,
      "outputs": [
        {
          "output_type": "execute_result",
          "data": {
            "text/plain": [
              "{'a': 567, 'b': 123}"
            ]
          },
          "metadata": {},
          "execution_count": 19
        }
      ]
    },
    {
      "cell_type": "markdown",
      "metadata": {
        "id": "-57L9aVubPqU"
      },
      "source": [
        "# Function"
      ]
    },
    {
      "cell_type": "markdown",
      "metadata": {
        "id": "1DNzYhO4bPqb"
      },
      "source": [
        "## Function template\n",
        "#### ทำหน้าที่รับ input มาประมวณผลออกมาเป็น output\n",
        "#### f(x) = y"
      ]
    },
    {
      "cell_type": "markdown",
      "metadata": {
        "id": "3Nv1ZDEKbPqc"
      },
      "source": [
        "### def คือการกำหนดฟังก์ชัน"
      ]
    },
    {
      "cell_type": "markdown",
      "metadata": {
        "id": "DbHDoWEabPqc"
      },
      "source": [
        "```python\n",
        "    def function_name(_Input_) :\n",
        "        do_something with _Input_ to get _Output_\n",
        "        return _Output_\n",
        "```"
      ]
    },
    {
      "cell_type": "markdown",
      "metadata": {
        "id": "1fuimreqpVhU"
      },
      "source": [
        "เราใช้ เว้นวรรค (indent) เพื่อบอกขอบเขตของโปรแกรม"
      ]
    },
    {
      "cell_type": "markdown",
      "metadata": {
        "id": "kh2M1smCl5Iv"
      },
      "source": [
        "function มีส่วนสำคัญทั้งหมด 4 ส่วน\n",
        "\n",
        "1.   บอก python ว่าเราจะเขียนฟังก์ชั่น ชื่ออะไร  ```def function_name():``` (ขาดไม่ได้)\n",
        "2.   กำหนดตัวแปรที่จะเป็น input  ```_Input_``` (ขาดได้)\n",
        "3.   ส่วนประมวลผล ```do_something with _Input_ to get _Output_``` (ขาดไม่ได้)\n",
        "4.   ส่วน output ```return _Output_```(ขาดได้)\n",
        "\n"
      ]
    },
    {
      "cell_type": "markdown",
      "metadata": {
        "id": "lqWzVN5AbPqc"
      },
      "source": [
        "#### ตัวอย่างการเขียน normal function\n"
      ]
    },
    {
      "cell_type": "markdown",
      "source": [
        "##### function ที่ มี input กับ output 1 ตัว"
      ],
      "metadata": {
        "id": "QalIzYlcYeBU"
      }
    },
    {
      "cell_type": "code",
      "source": [
        "def print_myname():   # ตัวอย่าง function ที่ไม่มีทั้ง input และ output\n",
        "    print('Kittanai')"
      ],
      "metadata": {
        "id": "6wzfVo_pTefO"
      },
      "execution_count": 20,
      "outputs": []
    },
    {
      "cell_type": "code",
      "source": [
        "print_myname()"
      ],
      "metadata": {
        "colab": {
          "base_uri": "https://localhost:8080/"
        },
        "id": "482E9UnsUMkC",
        "outputId": "b51314f0-cbc5-40f8-f9e2-a0d7722b7a86"
      },
      "execution_count": 21,
      "outputs": [
        {
          "output_type": "stream",
          "name": "stdout",
          "text": [
            "Kittanai\n"
          ]
        }
      ]
    },
    {
      "cell_type": "code",
      "source": [
        "b = print_myname()"
      ],
      "metadata": {
        "colab": {
          "base_uri": "https://localhost:8080/"
        },
        "id": "ae6Cm1wyXeMk",
        "outputId": "0da9ca29-5cc0-437e-ec2c-40c2e08400de"
      },
      "execution_count": 31,
      "outputs": [
        {
          "output_type": "stream",
          "name": "stdout",
          "text": [
            "Kittanai\n"
          ]
        }
      ]
    },
    {
      "cell_type": "code",
      "source": [
        "b"
      ],
      "metadata": {
        "id": "qbuMNsWGXi7E"
      },
      "execution_count": 32,
      "outputs": []
    },
    {
      "cell_type": "code",
      "source": [
        "def print_name(name):        # ตัวอย่าง function ที่ มี input หลายตัว กับ output 1 ตัว\n",
        "    st = f'ชื่อ {name}'\n",
        "    return st"
      ],
      "metadata": {
        "id": "xHQd76eMW-ns"
      },
      "execution_count": 26,
      "outputs": []
    },
    {
      "cell_type": "code",
      "source": [
        "print_name('stat')"
      ],
      "metadata": {
        "colab": {
          "base_uri": "https://localhost:8080/",
          "height": 36
        },
        "id": "04eLLUwiXJPs",
        "outputId": "46643a74-a66c-46f7-ab10-0e998846a9af"
      },
      "execution_count": 28,
      "outputs": [
        {
          "output_type": "execute_result",
          "data": {
            "text/plain": [
              "'ชื่อ stat'"
            ],
            "application/vnd.google.colaboratory.intrinsic+json": {
              "type": "string"
            }
          },
          "metadata": {},
          "execution_count": 28
        }
      ]
    },
    {
      "cell_type": "code",
      "source": [
        "a = print_name('stat')"
      ],
      "metadata": {
        "id": "AlrA8nm1XUrf"
      },
      "execution_count": 29,
      "outputs": []
    },
    {
      "cell_type": "code",
      "source": [
        "a"
      ],
      "metadata": {
        "colab": {
          "base_uri": "https://localhost:8080/",
          "height": 36
        },
        "id": "t1fSCO4KXYp0",
        "outputId": "b9c73f31-541f-4213-ccff-a1c3c6d734e2"
      },
      "execution_count": 30,
      "outputs": [
        {
          "output_type": "execute_result",
          "data": {
            "text/plain": [
              "'ชื่อ stat'"
            ],
            "application/vnd.google.colaboratory.intrinsic+json": {
              "type": "string"
            }
          },
          "metadata": {},
          "execution_count": 30
        }
      ]
    },
    {
      "cell_type": "code",
      "source": [],
      "metadata": {
        "id": "eOEcXHyMXas0"
      },
      "execution_count": null,
      "outputs": []
    },
    {
      "cell_type": "code",
      "source": [],
      "metadata": {
        "id": "NtsRDVlcXaib"
      },
      "execution_count": null,
      "outputs": []
    },
    {
      "cell_type": "code",
      "source": [],
      "metadata": {
        "id": "GOeHx4eiXaaE"
      },
      "execution_count": null,
      "outputs": []
    },
    {
      "cell_type": "markdown",
      "source": [
        "##### function ที่ มี input หลายตัว กับ output 1 ตัว"
      ],
      "metadata": {
        "id": "5MtMZTGQYD0M"
      }
    },
    {
      "cell_type": "code",
      "metadata": {
        "id": "n706WULobPqc"
      },
      "source": [
        " # ตัวอย่าง function ที่ มี input หลายตัว กับ output 1 ตัว\n",
        "\n",
        "def print_name(surname,ID,name):\n",
        "    st = f'ชื่อ {name} นามสกุล {surname} รหัส {ID}'\n",
        "    return st"
      ],
      "execution_count": 38,
      "outputs": []
    },
    {
      "cell_type": "code",
      "metadata": {
        "colab": {
          "base_uri": "https://localhost:8080/",
          "height": 36
        },
        "id": "muh0pi_Gkym8",
        "outputId": "b9968b5c-c347-410d-e05c-044d6b3b9de2"
      },
      "source": [
        "print_name('อินทระ','64xxxxxx','ธนพงศ์')"
      ],
      "execution_count": 37,
      "outputs": [
        {
          "output_type": "execute_result",
          "data": {
            "text/plain": [
              "'ชื่อ ธนพงศ์ นามสกุล อินทระ รหัส 64xxxxxx'"
            ],
            "application/vnd.google.colaboratory.intrinsic+json": {
              "type": "string"
            }
          },
          "metadata": {},
          "execution_count": 37
        }
      ]
    },
    {
      "cell_type": "code",
      "source": [
        "print_name(name='กาญจนา',surname='ประสาคุณ',ID='603021855-2')"
      ],
      "metadata": {
        "colab": {
          "base_uri": "https://localhost:8080/",
          "height": 36
        },
        "id": "vxooaHuHVTDJ",
        "outputId": "164938b3-8f56-422c-b241-89fb7b0b3acd"
      },
      "execution_count": 35,
      "outputs": [
        {
          "output_type": "execute_result",
          "data": {
            "text/plain": [
              "'ชื่อ กาญจนา นามสกุล ประสาคุณ รหัส 603021855-2'"
            ],
            "application/vnd.google.colaboratory.intrinsic+json": {
              "type": "string"
            }
          },
          "metadata": {},
          "execution_count": 35
        }
      ]
    },
    {
      "cell_type": "markdown",
      "metadata": {
        "id": "tSV-FUQBpx0i"
      },
      "source": [
        "ฟังก์ชั่นไม่จำเป็นต้องมี output"
      ]
    },
    {
      "cell_type": "code",
      "metadata": {
        "id": "loNAFSvLo5dC"
      },
      "source": [
        "def print_name2(surname,ID,name):\n",
        "    st = f'ชื่อ {name} นามสกุล {surname} รหัส {ID}'\n",
        "    print(st)"
      ],
      "execution_count": 39,
      "outputs": []
    },
    {
      "cell_type": "code",
      "metadata": {
        "colab": {
          "base_uri": "https://localhost:8080/"
        },
        "id": "JE88oCj8o_j_",
        "outputId": "bec2b1be-9b34-457a-a43f-75d4fc588e7e"
      },
      "source": [
        "print_name2(name='กาญจนา',surname='ประสาคุณ',ID='603021855-2')"
      ],
      "execution_count": 40,
      "outputs": [
        {
          "output_type": "stream",
          "name": "stdout",
          "text": [
            "ชื่อ กาญจนา นามสกุล ประสาคุณ รหัส 603021855-2\n"
          ]
        }
      ]
    },
    {
      "cell_type": "markdown",
      "source": [
        "### ข้อแตกต่างระหว่าง function ที่มีและไม่มี output"
      ],
      "metadata": {
        "id": "dW328wxLWauv"
      }
    },
    {
      "cell_type": "code",
      "source": [
        "out_printname1 = print_name(name='กาญจนา',surname='ประสาคุณ',ID='603021855-2') # มี output\n",
        "print(out_printname1)"
      ],
      "metadata": {
        "colab": {
          "base_uri": "https://localhost:8080/"
        },
        "id": "Ae6C6-DTWFOD",
        "outputId": "13e93075-b9e3-4ecd-c429-c67d79abf4da"
      },
      "execution_count": 41,
      "outputs": [
        {
          "output_type": "stream",
          "name": "stdout",
          "text": [
            "ชื่อ กาญจนา นามสกุล ประสาคุณ รหัส 603021855-2\n"
          ]
        }
      ]
    },
    {
      "cell_type": "code",
      "source": [
        "out_printname1"
      ],
      "metadata": {
        "colab": {
          "base_uri": "https://localhost:8080/",
          "height": 36
        },
        "id": "yPtH94N0WtsE",
        "outputId": "cc87a88a-3513-4ea8-a460-bbb62f055132"
      },
      "execution_count": 42,
      "outputs": [
        {
          "output_type": "execute_result",
          "data": {
            "text/plain": [
              "'ชื่อ กาญจนา นามสกุล ประสาคุณ รหัส 603021855-2'"
            ],
            "application/vnd.google.colaboratory.intrinsic+json": {
              "type": "string"
            }
          },
          "metadata": {},
          "execution_count": 42
        }
      ]
    },
    {
      "cell_type": "code",
      "source": [
        "out_printname2 = print_name2(name='กาญจนา',surname='ประสาคุณ',ID='603021855-2')  # ไม่มี output\n",
        "print(out_printname2)"
      ],
      "metadata": {
        "colab": {
          "base_uri": "https://localhost:8080/"
        },
        "id": "AbT5pKVYWRBn",
        "outputId": "e7f6034d-ff8f-46d2-ed45-59d72c9866f9"
      },
      "execution_count": 43,
      "outputs": [
        {
          "output_type": "stream",
          "name": "stdout",
          "text": [
            "ชื่อ กาญจนา นามสกุล ประสาคุณ รหัส 603021855-2\n",
            "None\n"
          ]
        }
      ]
    },
    {
      "cell_type": "code",
      "source": [
        "out_printname2"
      ],
      "metadata": {
        "id": "l_fW68dyXDw3"
      },
      "execution_count": 44,
      "outputs": []
    },
    {
      "cell_type": "markdown",
      "metadata": {
        "id": "JF4RdyEBqPyl"
      },
      "source": [
        "ฟังก์ชั่นไม่จำเป็นต้องมี input"
      ]
    },
    {
      "cell_type": "code",
      "metadata": {
        "id": "LNb_o_ZXo_gh"
      },
      "source": [
        "def Pi():\n",
        "    return 3.14159265359"
      ],
      "execution_count": 45,
      "outputs": []
    },
    {
      "cell_type": "code",
      "metadata": {
        "colab": {
          "base_uri": "https://localhost:8080/"
        },
        "id": "htN6zLbFo_dr",
        "outputId": "1caf2453-cd4d-49da-b020-87edc7d5baed"
      },
      "source": [
        "Pi()*(2**2) # หาพื้นที่ของวงกลมที่มีรัศมีเท่ากับ Pi * r^2"
      ],
      "execution_count": 46,
      "outputs": [
        {
          "output_type": "execute_result",
          "data": {
            "text/plain": [
              "12.56637061436"
            ]
          },
          "metadata": {},
          "execution_count": 46
        }
      ]
    },
    {
      "cell_type": "markdown",
      "metadata": {
        "id": "ywc0Ho-_rUTu"
      },
      "source": [
        "## เราสามารถกำหนดค่า default ให้กับ input ของฟังก์ชั่นได้"
      ]
    },
    {
      "cell_type": "markdown",
      "metadata": {
        "id": "y_74dHkjxS7f"
      },
      "source": [
        "input ของ function ใน python มีสองแบบ input ที่จำเป็นต้องใส่ กับ input ที่ไม่จำเป็นต้องใส่ (มีค่า default)\n",
        "\n",
        "เราต้องเรียง input ที่จำเป็นต้องใส่ขึ้นก่อน"
      ]
    },
    {
      "cell_type": "code",
      "metadata": {
        "id": "0Lrh-6mAo_bA"
      },
      "source": [
        "def print_2lines_default(name,surname,ID,grade='F'):\n",
        "    st = f'ชื่อ {name} นามสกุล {surname} รหัส {ID}'\n",
        "    print (st)\n",
        "    st2=f'เกรดวิชา Data Viz >>> {grade}'\n",
        "    print(st2)"
      ],
      "execution_count": 47,
      "outputs": []
    },
    {
      "cell_type": "code",
      "source": [
        "print_2lines_default('กฤตนัย','วิเศษคร้อ','663020620-0', 'A')"
      ],
      "metadata": {
        "colab": {
          "base_uri": "https://localhost:8080/"
        },
        "id": "Hp9hlWj6Z6aV",
        "outputId": "f161f9b8-79dc-436e-d601-fa20a58f441e"
      },
      "execution_count": 54,
      "outputs": [
        {
          "output_type": "stream",
          "name": "stdout",
          "text": [
            "ชื่อ กฤตนัย นามสกุล วิเศษคร้อ รหัส 663020620-0\n",
            "เกรดวิชา Data Viz >>> A\n"
          ]
        }
      ]
    },
    {
      "cell_type": "code",
      "metadata": {
        "colab": {
          "base_uri": "https://localhost:8080/"
        },
        "id": "ZH31VIjko_WP",
        "outputId": "7907fb75-6d71-4797-b776-8c05991f9408"
      },
      "source": [
        "print_2lines_default('ธันยาการต์','พวงมาลัย','613020551-8')"
      ],
      "execution_count": 51,
      "outputs": [
        {
          "output_type": "stream",
          "name": "stdout",
          "text": [
            "ชื่อ ธันยาการต์ นามสกุล พวงมาลัย รหัส 613020551-8\n",
            "เกรดวิชา Data Viz >>> F\n"
          ]
        }
      ]
    },
    {
      "cell_type": "code",
      "metadata": {
        "colab": {
          "base_uri": "https://localhost:8080/"
        },
        "id": "FKGr2Iyuo_S2",
        "outputId": "3eb7ce28-5366-4250-9b54-5de049b3955f"
      },
      "source": [
        "print_2lines_default('ธันยาการต์','พวงมาลัย','613020551-8','A')"
      ],
      "execution_count": 52,
      "outputs": [
        {
          "output_type": "stream",
          "name": "stdout",
          "text": [
            "ชื่อ ธันยาการต์ นามสกุล พวงมาลัย รหัส 613020551-8\n",
            "เกรดวิชา Data Viz >>> A\n"
          ]
        }
      ]
    },
    {
      "cell_type": "code",
      "source": [
        "print_2lines_default('ธันยาการต์','พวงมาลัย','613020551-8',grade = 'A')"
      ],
      "metadata": {
        "colab": {
          "base_uri": "https://localhost:8080/"
        },
        "id": "Au_P2Cm8ZDXL",
        "outputId": "90226093-857a-48a7-b479-1b873fe3bb1c"
      },
      "execution_count": 53,
      "outputs": [
        {
          "output_type": "stream",
          "name": "stdout",
          "text": [
            "ชื่อ ธันยาการต์ นามสกุล พวงมาลัย รหัส 613020551-8\n",
            "เกรดวิชา Data Viz >>> A\n"
          ]
        }
      ]
    },
    {
      "cell_type": "code",
      "source": [
        "print_2lines_default('ธันยาการต์','พวงมาลัย')"
      ],
      "metadata": {
        "colab": {
          "base_uri": "https://localhost:8080/",
          "height": 148
        },
        "id": "cLGa_pO1Zv1U",
        "outputId": "c0757999-f031-4ed0-f80c-a92ba260fc28"
      },
      "execution_count": 55,
      "outputs": [
        {
          "output_type": "error",
          "ename": "TypeError",
          "evalue": "print_2lines_default() missing 1 required positional argument: 'ID'",
          "traceback": [
            "\u001b[0;31m---------------------------------------------------------------------------\u001b[0m",
            "\u001b[0;31mTypeError\u001b[0m                                 Traceback (most recent call last)",
            "\u001b[0;32m/tmp/ipython-input-55-2908973391.py\u001b[0m in \u001b[0;36m<cell line: 0>\u001b[0;34m()\u001b[0m\n\u001b[0;32m----> 1\u001b[0;31m \u001b[0mprint_2lines_default\u001b[0m\u001b[0;34m(\u001b[0m\u001b[0;34m'ธันยาการต์'\u001b[0m\u001b[0;34m,\u001b[0m\u001b[0;34m'พวงมาลัย'\u001b[0m\u001b[0;34m)\u001b[0m\u001b[0;34m\u001b[0m\u001b[0;34m\u001b[0m\u001b[0m\n\u001b[0m",
            "\u001b[0;31mTypeError\u001b[0m: print_2lines_default() missing 1 required positional argument: 'ID'"
          ]
        }
      ]
    },
    {
      "cell_type": "markdown",
      "source": [
        "# Quiz5\n",
        "เขียน function ที่รับ input 1 ตัว ตาม format hh1:mm1:ss1 - hh2:mm2:ss2 และคำนวณหา ช่วงเวลาเป็นวินาที ที่ห่างกันระหว่า time1 และ time2 โดยยังไม่ต้องสนใจว่า time2 สามารถข้ามไปอีกวันได้"
      ],
      "metadata": {
        "id": "Alh7JMwDa1k1"
      }
    },
    {
      "cell_type": "code",
      "source": [
        "def cal_dif_secs(timeinput):\n",
        "    timelist = timeinput.split('-')\n",
        "    time1 = timelist[0].split(':')\n",
        "    time2 = timelist[1].split(':')\n",
        "    time1_sec = int(time1[0])*3600 + int(time1[1])*60 + int(time1[2])\n",
        "    time2_sec = int(time2[0])*3600 + int(time2[1])*60 + int(time2[2])\n",
        "    dif_sec = time2_sec - time1_sec\n",
        "    return dif_sec"
      ],
      "metadata": {
        "id": "Y_cPWPKzewFM"
      },
      "execution_count": 56,
      "outputs": []
    },
    {
      "cell_type": "code",
      "source": [
        "cal_dif_secs('12:30:15-13:41:07')"
      ],
      "metadata": {
        "colab": {
          "base_uri": "https://localhost:8080/"
        },
        "id": "1lO3BaYJfUuF",
        "outputId": "aba6d760-7685-4990-dfdb-30f1817723eb"
      },
      "execution_count": 57,
      "outputs": [
        {
          "output_type": "execute_result",
          "data": {
            "text/plain": [
              "4252"
            ]
          },
          "metadata": {},
          "execution_count": 57
        }
      ]
    },
    {
      "cell_type": "code",
      "source": [],
      "metadata": {
        "id": "xmxwqjIFbc5c"
      },
      "execution_count": null,
      "outputs": []
    },
    {
      "cell_type": "code",
      "source": [
        "# prompt เขียนโค้ดคำนวณเวลา จากโค้ด def cal_dif_secs(timeinput):\n",
        "#     timelist = timeinput.split('-')\n",
        "#     time1 = timelist[0].split(':')\n",
        "#     time2 = timelist[1].split(':')\n",
        "#     time1_sec = int(time1[0])*3600 + int(time1[1])*60 + int(time1[2])\n",
        "#     time2_sec = int(time2[0])*3600 + int(time2[1])*60 + int(time2[2])\n",
        "#     dif_sec = time2_sec - time1_sec\n",
        "#     return dif_sec\n",
        "#     โดย เพิ่มวันในการใช้คำนวณด้วย ตัวอย่างโจทย์\n",
        "# ข้อ.1 12:30:15, Wednesday - 13:41:07, Thursday\n",
        "# ข้อ.2 12:53:15, Monday - 00:59:25, Tuesday\n",
        "# ข้อ.3 16:06:09, Sunday - 11:11:11, Tuesday\n",
        "\n",
        "def cal_dif_secs_with_day(timeinput):\n",
        "    # mapping วันเป็นเลข\n",
        "    day_map = {\n",
        "        \"Sunday\": 0,\n",
        "        \"Monday\": 1,\n",
        "        \"Tuesday\": 2,\n",
        "        \"Wednesday\": 3,\n",
        "        \"Thursday\": 4,\n",
        "        \"Friday\": 5,\n",
        "        \"Saturday\": 6\n",
        "    }\n",
        "\n",
        "    # แยกช่วงเวลาตาม '-'\n",
        "    parts = timeinput.split('-')\n",
        "\n",
        "    # แยกเวลาและวันของช่วงที่ 1\n",
        "    time1_part = parts[0].strip()       # เช่น \"12:30:15, Wednesday\"\n",
        "    time1_str, day1_str = time1_part.split(',')\n",
        "    time1 = time1_str.strip().split(':')\n",
        "    day1 = day1_str.strip()\n",
        "\n",
        "    # แยกเวลาและวันของช่วงที่ 2\n",
        "    time2_part = parts[1].strip()       # เช่น \"13:41:07, Thursday\"\n",
        "    time2_str, day2_str = time2_part.split(',')\n",
        "    time2 = time2_str.strip().split(':')\n",
        "    day2 = day2_str.strip()\n",
        "\n",
        "    # แปลงเวลาเป็นวินาทีในวันนั้น\n",
        "    time1_sec = int(time1[0])*3600 + int(time1[1])*60 + int(time1[2])\n",
        "    time2_sec = int(time2[0])*3600 + int(time2[1])*60 + int(time2[2])\n",
        "\n",
        "    # แปลงวันเป็นวินาที (จำนวนวันที่ต่างกัน * 24 * 3600)\n",
        "    day_diff = day_map[day2] - day_map[day1]\n",
        "    day_diff_sec = day_diff * 24 * 3600\n",
        "\n",
        "    # ผลต่างเวลารวมวัน\n",
        "    dif_sec = (time2_sec + day_diff_sec) - time1_sec\n",
        "\n",
        "    return dif_sec"
      ],
      "metadata": {
        "id": "qixr_H8ubcwr"
      },
      "execution_count": 58,
      "outputs": []
    },
    {
      "cell_type": "code",
      "source": [
        "print(cal_dif_secs_with_day(\"12:30:15, Wednesday - 13:41:07, Thursday\"))  # ข้อ 1\n",
        "print(cal_dif_secs_with_day(\"12:53:15, Monday - 00:59:25, Tuesday\"))     # ข้อ 2\n",
        "print(cal_dif_secs_with_day(\"16:06:09, Sunday - 11:11:11, Tuesday\"))     # ข้อ 3\n"
      ],
      "metadata": {
        "colab": {
          "base_uri": "https://localhost:8080/"
        },
        "id": "pf_UAxZobcm8",
        "outputId": "b73826f1-62d8-40fc-e329-86bd7f72521f"
      },
      "execution_count": 59,
      "outputs": [
        {
          "output_type": "stream",
          "name": "stdout",
          "text": [
            "90652\n",
            "43570\n",
            "155102\n"
          ]
        }
      ]
    },
    {
      "cell_type": "code",
      "source": [],
      "metadata": {
        "id": "2xl8mGKNf4c6"
      },
      "execution_count": null,
      "outputs": []
    },
    {
      "cell_type": "code",
      "source": [],
      "metadata": {
        "id": "QTaVpj77f4Xy"
      },
      "execution_count": null,
      "outputs": []
    },
    {
      "cell_type": "markdown",
      "source": [
        "Quiz6\n",
        "เขียนฟังก์ชัน ของ HW2 -> มีการใช้ค่า default ของ input โดยถ้าวันที่กรอกเป็นวันเดียวกันให้ไม่ต้องกรอกเลย หรือกรอกแค่ 1 ตัว"
      ],
      "metadata": {
        "id": "RBJb1K1pgAar"
      }
    },
    {
      "cell_type": "code",
      "source": [
        "def cal_dif_secs_quiz5(time1, time2=None):\n",
        "    day_map = {\n",
        "        \"Sunday\": 0, \"Monday\": 1, \"Tuesday\": 2, \"Wednesday\": 3,\n",
        "        \"Thursday\": 4, \"Friday\": 5, \"Saturday\": 6\n",
        "    }\n",
        "\n",
        "    # แยกเวลาและวันจาก time1 เช่น \"12:30:15, Wednesday\"\n",
        "    time1_str, day1_str = time1.split(',')\n",
        "    time1_parts = time1_str.strip().split(':')\n",
        "    day1 = day1_str.strip()\n",
        "\n",
        "    if time2 is None:\n",
        "        # ถ้าไม่กรอก time2 ถือเป็นเวลาเดียวกับ time1\n",
        "        time2_str = time1_str.strip()\n",
        "        day2 = day1\n",
        "    else:\n",
        "        if ',' in time2:\n",
        "            # ถ้ามีวันใน time2 เช่น \"13:41:07, Wednesday\"\n",
        "            time2_str, day2_str = time2.split(',')\n",
        "            day2 = day2_str.strip()\n",
        "        else:\n",
        "            # ถ้าไม่มีวันใน time2 เช่น \"13:41:07\" ให้ถือวันเดียวกับ time1\n",
        "            time2_str = time2.strip()\n",
        "            day2 = day1\n",
        "\n",
        "    time2_parts = time2_str.split(':')\n",
        "\n",
        "    # แปลงเวลาทั้งสองเป็นวินาที\n",
        "    time1_sec = int(time1_parts[0]) * 3600 + int(time1_parts[1]) * 60 + int(time1_parts[2])\n",
        "    time2_sec = int(time2_parts[0]) * 3600 + int(time2_parts[1]) * 60 + int(time2_parts[2])\n",
        "\n",
        "    # คำนวณวันต่าง (ถ้าวันเดียวกัน = 0)\n",
        "    day_diff = day_map[day2] - day_map[day1]\n",
        "    day_diff_sec = day_diff * 24 * 3600\n",
        "\n",
        "    # ผลต่างเวลารวมวัน\n",
        "    dif_sec = (time2_sec + day_diff_sec) - time1_sec\n",
        "\n",
        "    return dif_sec\n"
      ],
      "metadata": {
        "id": "TusNYb8_hmOC"
      },
      "execution_count": 66,
      "outputs": []
    },
    {
      "cell_type": "code",
      "source": [
        "print(cal_dif_secs_quiz5(\"12:30:15, Wednesday\", \"13:41:07, Wednesday\"))\n",
        "# ผลลัพธ์ = 4152 วินาที (1 ชม 10 นาที 52 วินาที)\n",
        "\n",
        "print(cal_dif_secs_quiz5(\"12:53:15, Monday\", \"20:59:25, Monday\"))\n",
        "# ผลลัพธ์ = 29310 วินาที (8 ชม 6 นาที 10 วินาที)\n",
        "\n",
        "# กรณีกรอกเวลา time2 อย่างเดียว\n",
        "print(cal_dif_secs_quiz5(\"12:30:15, Wednesday\", \"13:41:07\"))\n",
        "# ถือเป็นวันเดียวกันกับ time1, ผลลัพธ์เหมือนข้อแรก\n"
      ],
      "metadata": {
        "colab": {
          "base_uri": "https://localhost:8080/"
        },
        "id": "C8SvAvIDhpU0",
        "outputId": "89d90cba-9ef2-420d-a79e-de6b9ee0cb62"
      },
      "execution_count": 67,
      "outputs": [
        {
          "output_type": "stream",
          "name": "stdout",
          "text": [
            "4252\n",
            "29170\n",
            "4252\n"
          ]
        }
      ]
    },
    {
      "cell_type": "code",
      "source": [
        "print(cal_dif_secs_quiz5(\"12:01:00, Wednesday\", \"12:02:00\"))"
      ],
      "metadata": {
        "colab": {
          "base_uri": "https://localhost:8080/"
        },
        "id": "GuLQssEKi8BM",
        "outputId": "34917c96-b901-401b-9480-2f67041d0c98"
      },
      "execution_count": 72,
      "outputs": [
        {
          "output_type": "stream",
          "name": "stdout",
          "text": [
            "60\n"
          ]
        }
      ]
    },
    {
      "cell_type": "code",
      "source": [],
      "metadata": {
        "id": "g57PvFasjA_t"
      },
      "execution_count": null,
      "outputs": []
    },
    {
      "cell_type": "code",
      "source": [],
      "metadata": {
        "id": "_64sN2MkhmKM"
      },
      "execution_count": null,
      "outputs": []
    },
    {
      "cell_type": "code",
      "source": [
        "print"
      ],
      "metadata": {
        "id": "Kpnc0StnhmFU"
      },
      "execution_count": null,
      "outputs": []
    },
    {
      "cell_type": "markdown",
      "source": [
        "# Quiz3.5\n",
        "\n",
        "รับ input 2 ตัว โดยตั้งค่า default time1 เป็น 00:00:00"
      ],
      "metadata": {
        "id": "GMMe5F1zgNV5"
      }
    },
    {
      "cell_type": "markdown",
      "source": [
        "## HW2\n",
        "\n",
        "วนลูป หา ช่วงเวลาเป็นวินาที ที่ห่างกันระหว่า time1 และ time2 ต่อไปนี้\n",
        "\n",
        "\n",
        "1. 18:09:10 - 18:25:10\n",
        "2. 13:38:39 - 23:54:39\n",
        "3. 16:49:58 - 18:05:58\n",
        "4. 21:49:10 - 22:24:10\n",
        "5. 08:52:21 - 09:25:21\n",
        "6. 06:56:26 - 07:49:26\n",
        "7. 12:08:05 - 12:43:05\n",
        "8. 01:48:38 - 07:18:38\n",
        "9. 08:51:21 - 10:17:21\n",
        "10. 17:05:17 - 18:09:17"
      ],
      "metadata": {
        "id": "Y60TMz5ijb_S"
      }
    },
    {
      "cell_type": "markdown",
      "metadata": {
        "id": "UB5fTAr3bPqg"
      },
      "source": [
        "# LOOP การวนซ้ำ"
      ]
    },
    {
      "cell_type": "markdown",
      "metadata": {
        "id": "gpIwjDjg0gfJ"
      },
      "source": [
        "for เป็นคำที่ใช้บอก python ว่าเรากำลังเขียน loop\n",
        "โดย for จะวนดึงสมาชิกจาก ```listA``` มาทำ process ```do_something```"
      ]
    },
    {
      "cell_type": "markdown",
      "metadata": {
        "id": "6XS2wO4_bPqg"
      },
      "source": [
        "```python\n",
        "    for each_member in listA :\n",
        "        do_something\n",
        "```"
      ]
    },
    {
      "cell_type": "markdown",
      "metadata": {
        "id": "d7kQ2AEcbPqg"
      },
      "source": [
        "#### คำสั่ง for เป็นคำสั่งวนซ้ำที่ใช้ควบคุมการทำงานซ้ำๆ ในจำนวนรอบที่แน่นอน"
      ]
    },
    {
      "cell_type": "code",
      "metadata": {
        "colab": {
          "base_uri": "https://localhost:8080/"
        },
        "id": "NcT-s7TEbPqg",
        "outputId": "12a14bbe-f3ff-42c8-bbb3-6f9a0f6097f8"
      },
      "source": [
        "for i in [1,2,3] :\n",
        "    o = i**2\n",
        "    print (f'this member = {i} after process = {o}')"
      ],
      "execution_count": null,
      "outputs": [
        {
          "output_type": "stream",
          "name": "stdout",
          "text": [
            "this member = 1 after process = 1\n",
            "this member = 2 after process = 4\n",
            "this member = 3 after process = 9\n"
          ]
        }
      ]
    },
    {
      "cell_type": "markdown",
      "metadata": {
        "id": "YbnFaiU2bPqg"
      },
      "source": [
        "#### ตัวอย่างการใช้คำสั่ง for ในการวนซ้ำค่าของ i เมื่อ i คือ 'Thanapong' และคำสั่ง print(f'{i} -> /') เพื่อกำหนดให้ผลลัพธ์แสดงสัญลักษณ์ -> /  จากนั้นเพิ่มคำสั่ง print(' ') อีกครั้งเพื่อให้ผลลัพธ์มีการเว้นวรรค¶"
      ]
    },
    {
      "cell_type": "code",
      "metadata": {
        "id": "kstoI_CEbPqh",
        "outputId": "1f66fa4a-09f2-44e8-89e0-299a9388f0c1",
        "colab": {
          "base_uri": "https://localhost:8080/"
        }
      },
      "source": [
        "for i in 'Thanapong':\n",
        "    print(f'{i} -> / ' )"
      ],
      "execution_count": null,
      "outputs": [
        {
          "output_type": "stream",
          "name": "stdout",
          "text": [
            "T -> / \n",
            "h -> / \n",
            "a -> / \n",
            "n -> / \n",
            "a -> / \n",
            "p -> / \n",
            "o -> / \n",
            "n -> / \n",
            "g -> / \n"
          ]
        }
      ]
    },
    {
      "cell_type": "code",
      "metadata": {
        "id": "mQmh0Ip-V8qR",
        "outputId": "0e01aa3e-f288-4865-d65d-2f2711066413",
        "colab": {
          "base_uri": "https://localhost:8080/"
        }
      },
      "source": [
        "for i in 'Thanapong':\n",
        "    print(f'{i} -> / ' ,end = '') #สั่งให้ print แบบ ไม่เว้นบรรทัด"
      ],
      "execution_count": null,
      "outputs": [
        {
          "output_type": "stream",
          "name": "stdout",
          "text": [
            "T -> / h -> / a -> / n -> / a -> / p -> / o -> / n -> / g -> / "
          ]
        }
      ]
    },
    {
      "cell_type": "markdown",
      "metadata": {
        "id": "3_I0IHOqXMIr"
      },
      "source": [
        "## สร้าง list ตัวเลขแบบอัตโนมัติ  range()"
      ]
    },
    {
      "cell_type": "code",
      "metadata": {
        "id": "ensAuLXBW-0P",
        "outputId": "e73e37e9-cdcf-47c4-f47a-765e7188860c",
        "colab": {
          "base_uri": "https://localhost:8080/"
        }
      },
      "source": [
        "range5_output = range(5)\n",
        "print(list(range5_output))"
      ],
      "execution_count": null,
      "outputs": [
        {
          "output_type": "stream",
          "name": "stdout",
          "text": [
            "[0, 1, 2, 3, 4]\n"
          ]
        }
      ]
    },
    {
      "cell_type": "code",
      "metadata": {
        "id": "r8JXggPKXrEx",
        "outputId": "bcb4fe84-093e-4623-d62c-2c227d1cceec",
        "colab": {
          "base_uri": "https://localhost:8080/"
        }
      },
      "source": [
        "for i in range(100):\n",
        "    print('งง',end=' ')"
      ],
      "execution_count": null,
      "outputs": [
        {
          "output_type": "stream",
          "name": "stdout",
          "text": [
            "งง งง งง งง งง งง งง งง งง งง งง งง งง งง งง งง งง งง งง งง งง งง งง งง งง งง งง งง งง งง งง งง งง งง งง งง งง งง งง งง งง งง งง งง งง งง งง งง งง งง งง งง งง งง งง งง งง งง งง งง งง งง งง งง งง งง งง งง งง งง งง งง งง งง งง งง งง งง งง งง งง งง งง งง งง งง งง งง งง งง งง งง งง งง งง งง งง งง งง งง "
          ]
        }
      ]
    },
    {
      "cell_type": "code",
      "metadata": {
        "id": "RLvhNqw8YpKa",
        "outputId": "19ae69a5-474b-4d30-f4ce-bdeddf084c71",
        "colab": {
          "base_uri": "https://localhost:8080/"
        }
      },
      "source": [
        "list(range(1,11)) #เริ่มต้นเป็นวงทึบ จบเป็นวงกลมโปร่ง เหมือน list slicing"
      ],
      "execution_count": null,
      "outputs": [
        {
          "output_type": "execute_result",
          "data": {
            "text/plain": [
              "[1, 2, 3, 4, 5, 6, 7, 8, 9, 10]"
            ]
          },
          "metadata": {},
          "execution_count": 27
        }
      ]
    },
    {
      "cell_type": "code",
      "metadata": {
        "id": "MqXQ9NLGcW-r",
        "outputId": "ab839a9f-525a-40d4-b7d1-4b8f0d4de3a7",
        "colab": {
          "base_uri": "https://localhost:8080/"
        }
      },
      "source": [
        "list(range(-3,20,4))"
      ],
      "execution_count": null,
      "outputs": [
        {
          "output_type": "execute_result",
          "data": {
            "text/plain": [
              "[-3, 1, 5, 9, 13, 17]"
            ]
          },
          "metadata": {},
          "execution_count": 28
        }
      ]
    },
    {
      "cell_type": "markdown",
      "metadata": {
        "id": "vPcR4tJebPqi"
      },
      "source": [
        "### loop in loop\n",
        "#### สามารถใช้ for loop ซ้อนกันสองรอบได้¶"
      ]
    },
    {
      "cell_type": "code",
      "metadata": {
        "id": "TKRcpd5DbPqi",
        "outputId": "b18bd9af-fe48-4979-ba91-f8faf2a8787a",
        "colab": {
          "base_uri": "https://localhost:8080/"
        }
      },
      "source": [
        "for name1 in  range(2,5): #(2, 3, 4)\n",
        "    print(f'now name1 = {name1}')\n",
        "    for name2 in  range(1,13):\n",
        "        print('  ', name1,' x ',name2,' = ',name1*name2)\n",
        "    print('the inner loop is end')"
      ],
      "execution_count": null,
      "outputs": [
        {
          "output_type": "stream",
          "name": "stdout",
          "text": [
            "now name1 = 2\n",
            "   2  x  1  =  2\n",
            "   2  x  2  =  4\n",
            "   2  x  3  =  6\n",
            "   2  x  4  =  8\n",
            "   2  x  5  =  10\n",
            "   2  x  6  =  12\n",
            "   2  x  7  =  14\n",
            "   2  x  8  =  16\n",
            "   2  x  9  =  18\n",
            "   2  x  10  =  20\n",
            "   2  x  11  =  22\n",
            "   2  x  12  =  24\n",
            "the inner loop is end\n",
            "now name1 = 3\n",
            "   3  x  1  =  3\n",
            "   3  x  2  =  6\n",
            "   3  x  3  =  9\n",
            "   3  x  4  =  12\n",
            "   3  x  5  =  15\n",
            "   3  x  6  =  18\n",
            "   3  x  7  =  21\n",
            "   3  x  8  =  24\n",
            "   3  x  9  =  27\n",
            "   3  x  10  =  30\n",
            "   3  x  11  =  33\n",
            "   3  x  12  =  36\n",
            "the inner loop is end\n",
            "now name1 = 4\n",
            "   4  x  1  =  4\n",
            "   4  x  2  =  8\n",
            "   4  x  3  =  12\n",
            "   4  x  4  =  16\n",
            "   4  x  5  =  20\n",
            "   4  x  6  =  24\n",
            "   4  x  7  =  28\n",
            "   4  x  8  =  32\n",
            "   4  x  9  =  36\n",
            "   4  x  10  =  40\n",
            "   4  x  11  =  44\n",
            "   4  x  12  =  48\n",
            "the inner loop is end\n"
          ]
        }
      ]
    },
    {
      "cell_type": "markdown",
      "metadata": {
        "id": "7-FAZit8bPqi"
      },
      "source": [
        "### loop in function\n",
        "#### การวนลูปในฟังก์ชั่น¶"
      ]
    },
    {
      "cell_type": "code",
      "metadata": {
        "id": "S0r5yhbDbPqi"
      },
      "source": [
        "def print_feelings(I,friendS,feeling = 'คิดถึง'):\n",
        "    for friend in friendS:\n",
        "        print(f'{I} {feeling} {friend}')"
      ],
      "execution_count": null,
      "outputs": []
    },
    {
      "cell_type": "code",
      "metadata": {
        "id": "_oVKj4SRfGS6"
      },
      "source": [
        "list_friends = ['พี่บูม','ดายน์','แตงโม','ฝน','พี่เจ็ท','น้องแคมป์']"
      ],
      "execution_count": null,
      "outputs": []
    },
    {
      "cell_type": "code",
      "metadata": {
        "id": "RepVZqu6bPqi",
        "outputId": "3153d88c-bb4e-44af-e3e8-1944d1a7d788",
        "colab": {
          "base_uri": "https://localhost:8080/"
        }
      },
      "source": [
        "print_feelings('เจมส์',list_friends)"
      ],
      "execution_count": null,
      "outputs": [
        {
          "output_type": "stream",
          "name": "stdout",
          "text": [
            "เจมส์ คิดถึง พี่บูม\n",
            "เจมส์ คิดถึง ดายน์\n",
            "เจมส์ คิดถึง แตงโม\n",
            "เจมส์ คิดถึง ฝน\n",
            "เจมส์ คิดถึง พี่เจ็ท\n",
            "เจมส์ คิดถึง น้องแคมป์\n"
          ]
        }
      ]
    },
    {
      "cell_type": "code",
      "metadata": {
        "id": "P20pDnVaf2vK",
        "outputId": "cb59f42c-9fb9-4d1b-8b99-58294130d44d",
        "colab": {
          "base_uri": "https://localhost:8080/"
        }
      },
      "source": [
        "print_feelings('เจมส์',list_friends,feeling='รัก')"
      ],
      "execution_count": null,
      "outputs": [
        {
          "output_type": "stream",
          "name": "stdout",
          "text": [
            "เจมส์ รัก พี่บูม\n",
            "เจมส์ รัก ดายน์\n",
            "เจมส์ รัก แตงโม\n",
            "เจมส์ รัก ฝน\n",
            "เจมส์ รัก พี่เจ็ท\n",
            "เจมส์ รัก น้องแคมป์\n"
          ]
        }
      ]
    },
    {
      "cell_type": "code",
      "metadata": {
        "id": "SzHamL8JhKG4",
        "outputId": "19fac0b6-f144-486a-8200-8e246090c9d1",
        "colab": {
          "base_uri": "https://localhost:8080/"
        }
      },
      "source": [
        "print_feelings('เจมส์',list_friends,'รัก')"
      ],
      "execution_count": null,
      "outputs": [
        {
          "output_type": "stream",
          "name": "stdout",
          "text": [
            "เจมส์ รัก พี่บูม\n",
            "เจมส์ รัก ดายน์\n",
            "เจมส์ รัก แตงโม\n",
            "เจมส์ รัก ฝน\n",
            "เจมส์ รัก พี่เจ็ท\n",
            "เจมส์ รัก น้องแคมป์\n"
          ]
        }
      ]
    },
    {
      "cell_type": "markdown",
      "source": [
        "จบ 24 มิย 67"
      ],
      "metadata": {
        "id": "GJAB4hnvnAX8"
      }
    },
    {
      "cell_type": "markdown",
      "source": [
        "## Dictionary (Data Structure)\n",
        "\n",
        "โครงสร้างข้อมูลที่จัดเก็บข้อมูลโดยการอ้างอิงโดย text\n",
        "\n",
        "วงเล็บ ```{``` ```}``` Curly Brackets"
      ],
      "metadata": {
        "id": "VreW55vmVRcb"
      }
    },
    {
      "cell_type": "code",
      "source": [
        "Ex_dict_A = {'memberA':[1,2,3],'memberB':8,'memberC':'abc'}"
      ],
      "metadata": {
        "id": "i-oH98ilV1RV"
      },
      "execution_count": null,
      "outputs": []
    },
    {
      "cell_type": "code",
      "source": [
        "Ex_dict_A"
      ],
      "metadata": {
        "colab": {
          "base_uri": "https://localhost:8080/"
        },
        "id": "kIwdnWuqWr58",
        "outputId": "694d94ad-5ac6-47a8-e6d6-01f62d578d9b"
      },
      "execution_count": null,
      "outputs": [
        {
          "output_type": "execute_result",
          "data": {
            "text/plain": [
              "{'memberA': [1, 2, 3], 'memberB': 8, 'memberC': 'abc'}"
            ]
          },
          "metadata": {},
          "execution_count": 2
        }
      ]
    },
    {
      "cell_type": "code",
      "source": [
        "Ex_dict_A['memberA']"
      ],
      "metadata": {
        "colab": {
          "base_uri": "https://localhost:8080/"
        },
        "id": "J4yy6oaXW4he",
        "outputId": "153013bf-f9bd-4cd9-a182-bf13744d02c7"
      },
      "execution_count": null,
      "outputs": [
        {
          "output_type": "execute_result",
          "data": {
            "text/plain": [
              "[1, 2, 3]"
            ]
          },
          "metadata": {},
          "execution_count": 5
        }
      ]
    },
    {
      "cell_type": "code",
      "source": [
        "Ex_dict_A['memberA'][1]"
      ],
      "metadata": {
        "colab": {
          "base_uri": "https://localhost:8080/"
        },
        "id": "cZjtUbdnXZK-",
        "outputId": "0eaa0d49-1a2a-41d6-bb62-7c3252df977f"
      },
      "execution_count": null,
      "outputs": [
        {
          "output_type": "execute_result",
          "data": {
            "text/plain": [
              "2"
            ]
          },
          "metadata": {},
          "execution_count": 6
        }
      ]
    },
    {
      "cell_type": "markdown",
      "metadata": {
        "id": "vwK7RmRJbPqj"
      },
      "source": [
        "### looping in dict\n",
        "#### ทำการวนลูปในค่า dict โดยที่เรากำหนดตัว key และvalueขึ้นมา ได้ดังนี้\n"
      ]
    },
    {
      "cell_type": "code",
      "metadata": {
        "id": "HI0F-4HobPqj",
        "outputId": "f5dff6b6-6102-4445-cc19-4574cf6790b2",
        "colab": {
          "base_uri": "https://localhost:8080/"
        }
      },
      "source": [
        "name_grade = {'พันทิพา' : 'B','ศุภนิตา' : 'C','ปนัดดา' : 'A','ทรงกลด' : 'F'}\n",
        "name_grade"
      ],
      "execution_count": null,
      "outputs": [
        {
          "output_type": "execute_result",
          "data": {
            "text/plain": [
              "{'พันทิพา': 'B', 'ศุภนิตา': 'C', 'ปนัดดา': 'A', 'ทรงกลด': 'F'}"
            ]
          },
          "metadata": {},
          "execution_count": 7
        }
      ]
    },
    {
      "cell_type": "code",
      "metadata": {
        "id": "jWf8aBmpbPqj",
        "outputId": "d19b353a-86f8-4dcc-e1d5-a5a0d233c332",
        "colab": {
          "base_uri": "https://localhost:8080/",
          "height": 56
        }
      },
      "source": [
        "name_grade['ปนัดดา']"
      ],
      "execution_count": null,
      "outputs": [
        {
          "output_type": "execute_result",
          "data": {
            "text/plain": [
              "'A'"
            ],
            "application/vnd.google.colaboratory.intrinsic+json": {
              "type": "string"
            }
          },
          "metadata": {},
          "execution_count": 8
        }
      ]
    },
    {
      "cell_type": "code",
      "source": [
        "name_grade.keys()"
      ],
      "metadata": {
        "colab": {
          "base_uri": "https://localhost:8080/"
        },
        "id": "0tXZc6kgYPgm",
        "outputId": "13096d92-02b7-4de1-9845-3552562916b2"
      },
      "execution_count": null,
      "outputs": [
        {
          "output_type": "execute_result",
          "data": {
            "text/plain": [
              "dict_keys(['พันทิพา', 'ศุภนิตา', 'ปนัดดา', 'ทรงกลด'])"
            ]
          },
          "metadata": {},
          "execution_count": 9
        }
      ]
    },
    {
      "cell_type": "code",
      "source": [
        "name_grade.values()"
      ],
      "metadata": {
        "colab": {
          "base_uri": "https://localhost:8080/"
        },
        "id": "zEqstk33YRxp",
        "outputId": "e01dc8af-865a-4ba3-809c-370371d8409e"
      },
      "execution_count": null,
      "outputs": [
        {
          "output_type": "execute_result",
          "data": {
            "text/plain": [
              "dict_values(['B', 'C', 'A', 'F'])"
            ]
          },
          "metadata": {},
          "execution_count": 10
        }
      ]
    },
    {
      "cell_type": "code",
      "metadata": {
        "scrolled": true,
        "id": "eDqhoebhbPqj",
        "outputId": "e3bed2bc-662c-4001-c6af-548dd9b7f0fc",
        "colab": {
          "base_uri": "https://localhost:8080/"
        }
      },
      "source": [
        "for i in name_grade.keys():\n",
        "    print(i)"
      ],
      "execution_count": null,
      "outputs": [
        {
          "output_type": "stream",
          "name": "stdout",
          "text": [
            "พันทิพา\n",
            "ศุภนิตา\n",
            "ปนัดดา\n",
            "ทรงกลด\n"
          ]
        }
      ]
    },
    {
      "cell_type": "code",
      "metadata": {
        "id": "Imvq4faObPqj",
        "outputId": "4debf4e7-78ed-431a-8b4a-61f4500d39a8",
        "colab": {
          "base_uri": "https://localhost:8080/"
        }
      },
      "source": [
        "for i in name_grade.keys():\n",
        "    print(f'{i} ได้เกรด {name_grade[i]}')"
      ],
      "execution_count": null,
      "outputs": [
        {
          "output_type": "stream",
          "name": "stdout",
          "text": [
            "พันทิพา ได้เกรด B\n",
            "ศุภนิตา ได้เกรด C\n",
            "ปนัดดา ได้เกรด A\n",
            "ทรงกลด ได้เกรด F\n"
          ]
        }
      ]
    },
    {
      "cell_type": "markdown",
      "source": [
        "## HW2 Example"
      ],
      "metadata": {
        "id": "CrnK1_WPaYv7"
      }
    },
    {
      "cell_type": "code",
      "source": [
        "time_list =  [\n",
        "    [\"18:09:10\", \"18:25:10\"],\n",
        "    [\"13:38:39\", \"23:54:39\"],\n",
        "    [\"16:49:58\", \"18:05:58\"],\n",
        "    [\"21:49:10\", \"22:24:10\"],\n",
        "    [\"08:52:21\", \"09:25:21\"],\n",
        "    [\"06:56:26\", \"07:49:26\"],\n",
        "    [\"12:08:05\", \"12:43:05\"],\n",
        "    [\"01:48:38\", \"07:18:38\"],\n",
        "    [\"08:51:21\", \"10:17:21\"],\n",
        "    [\"17:05:17\", \"18:09:17\"]]\n",
        "\n",
        "def time_to_second(time1,time2):\n",
        "    time1_list = time1.split(':')\n",
        "    time2_list = time2.split(':')\n",
        "    time1_sec = int(time1_list[0])*3600 + int(time1_list[1])*60 + int(time1_list[2])\n",
        "    time2_sec = int(time2_list[0])*3600 + int(time2_list[1])*60 + int(time2_list[2])\n",
        "    return(time2_sec - time1_sec)\n",
        "\n",
        "for time1,time2 in time_list:\n",
        "  diff_seconds = time_to_second(time1,time2)\n",
        "  print(f\"Time difference between {time1} - {time2} is {diff_seconds} seconds\")"
      ],
      "metadata": {
        "colab": {
          "base_uri": "https://localhost:8080/"
        },
        "id": "BqYhLFc5aYa2",
        "outputId": "825e1a7c-f359-44cc-9e02-160670dc983c"
      },
      "execution_count": null,
      "outputs": [
        {
          "output_type": "stream",
          "name": "stdout",
          "text": [
            "Time difference between 18:09:10 - 18:25:10 is 960 seconds\n",
            "Time difference between 13:38:39 - 23:54:39 is 36960 seconds\n",
            "Time difference between 16:49:58 - 18:05:58 is 4560 seconds\n",
            "Time difference between 21:49:10 - 22:24:10 is 2100 seconds\n",
            "Time difference between 08:52:21 - 09:25:21 is 1980 seconds\n",
            "Time difference between 06:56:26 - 07:49:26 is 3180 seconds\n",
            "Time difference between 12:08:05 - 12:43:05 is 2100 seconds\n",
            "Time difference between 01:48:38 - 07:18:38 is 19800 seconds\n",
            "Time difference between 08:51:21 - 10:17:21 is 5160 seconds\n",
            "Time difference between 17:05:17 - 18:09:17 is 3840 seconds\n"
          ]
        }
      ]
    },
    {
      "cell_type": "code",
      "source": [
        "time1 = \"18:09:10\"\n",
        "time2 = \"00:25:10\"\n",
        "diff_seconds = time_to_second(time1,time2)\n",
        "print(f\"Time difference between {time1} - {time2} is {diff_seconds} seconds\")"
      ],
      "metadata": {
        "colab": {
          "base_uri": "https://localhost:8080/"
        },
        "id": "lbz-CNPlbGYq",
        "outputId": "31befb8b-40ae-47b0-876d-a94e7ecfe760"
      },
      "execution_count": null,
      "outputs": [
        {
          "output_type": "stream",
          "name": "stdout",
          "text": [
            "Time difference between 18:09:10 - 00:25:10 is -63840 seconds\n"
          ]
        }
      ]
    },
    {
      "cell_type": "markdown",
      "metadata": {
        "id": "pLDGW8IobPqk"
      },
      "source": [
        "# Conditional statemet คือ ประโยคเงื่อนไข"
      ]
    },
    {
      "cell_type": "markdown",
      "source": [
        "ชนิดตัวแปรที่เกี่ยวข้อ Boolean (True,False)"
      ],
      "metadata": {
        "id": "TvK12jMwcVp8"
      }
    },
    {
      "cell_type": "code",
      "source": [
        "condition_1 = True\n",
        "condition_2 = False"
      ],
      "metadata": {
        "id": "JWxlKa-icUk6"
      },
      "execution_count": null,
      "outputs": []
    },
    {
      "cell_type": "markdown",
      "metadata": {
        "id": "8_-zCLkrbPqk"
      },
      "source": [
        "### การวนลูปโดยมีเงื่อนไขต่างๆมาเกี่ยวข้อง โดยมี pattern ดังนี้\n"
      ]
    },
    {
      "cell_type": "markdown",
      "metadata": {
        "id": "ZQuWb-bybPqk"
      },
      "source": [
        "```Python\n",
        "if condition1 :\n",
        "    do something\n",
        "elif condition2 :  #elif คือ else if\n",
        "    do another thing\n",
        "else:\n",
        "    do ...\n",
        "```\n",
        "    "
      ]
    },
    {
      "cell_type": "markdown",
      "metadata": {
        "id": "kUPdCRG7bPqk"
      },
      "source": [
        "## ==, !=,>=,<=,<,> Operator ของตัวเลข"
      ]
    },
    {
      "cell_type": "code",
      "source": [
        "def time_to_second(time1):\n",
        "    time1_list = time1.split(':')\n",
        "    time1_sec = int(time1_list[0])*3600 + int(time1_list[1])*60 + int(time1_list[2])\n",
        "    return time1_sec"
      ],
      "metadata": {
        "id": "9NIOIupSd_Zn"
      },
      "execution_count": null,
      "outputs": []
    },
    {
      "cell_type": "code",
      "source": [
        "time_list =  [\n",
        "    [\"18:09:10\", \"18:25:10\"],\n",
        "    [\"13:38:39\", \"23:54:39\"],[\"16:49:58\", \"18:05:58\"],\n",
        "    [\"21:49:10\", \"22:24:10\"],[\"08:52:21\", \"09:25:21\"],\n",
        "    [\"06:56:26\", \"07:49:26\"],[\"12:08:05\", \"12:43:05\"],\n",
        "    [\"01:48:38\", \"07:18:38\"],[\"08:51:21\", \"10:17:21\"],\n",
        "    [\"17:05:17\", \"18:09:17\"],[\"18:51:21\", \"00:17:21\"],\n",
        "    [\"17:05:17\", \"11:09:17\"],]"
      ],
      "metadata": {
        "id": "CYcYQJ45d8Wx"
      },
      "execution_count": null,
      "outputs": []
    },
    {
      "cell_type": "code",
      "source": [
        "for time1,time2 in time_list:\n",
        "\n",
        "    if time_to_second(time1) < time_to_second(time2): #ถ้า time1 น้อยกว่า time2\n",
        "        diff_seconds = time_to_second(time2) - time_to_second(time1)\n",
        "    else: #ถ้า time1 ไม่น้อยกว่า time2\n",
        "        diff_seconds = (time_to_second(time2)+(24*60*60)) - time_to_second(time1)\n",
        "\n",
        "    print(f\"Time difference between {time1} - {time2} is {diff_seconds} seconds\")"
      ],
      "metadata": {
        "colab": {
          "base_uri": "https://localhost:8080/"
        },
        "id": "sv-1il2_dmvv",
        "outputId": "50f45721-6ca1-4fc0-f786-ec748affb410"
      },
      "execution_count": null,
      "outputs": [
        {
          "output_type": "stream",
          "name": "stdout",
          "text": [
            "Time difference between 18:09:10 - 18:25:10 is 960 seconds\n",
            "Time difference between 13:38:39 - 23:54:39 is 36960 seconds\n",
            "Time difference between 16:49:58 - 18:05:58 is 4560 seconds\n",
            "Time difference between 21:49:10 - 22:24:10 is 2100 seconds\n",
            "Time difference between 08:52:21 - 09:25:21 is 1980 seconds\n",
            "Time difference between 06:56:26 - 07:49:26 is 3180 seconds\n",
            "Time difference between 12:08:05 - 12:43:05 is 2100 seconds\n",
            "Time difference between 01:48:38 - 07:18:38 is 19800 seconds\n",
            "Time difference between 08:51:21 - 10:17:21 is 5160 seconds\n",
            "Time difference between 17:05:17 - 18:09:17 is 3840 seconds\n",
            "Time difference between 18:51:21 - 00:17:21 is 19560 seconds\n",
            "Time difference between 17:05:17 - 11:09:17 is 65040 seconds\n"
          ]
        }
      ]
    },
    {
      "cell_type": "markdown",
      "source": [
        "# HW3 เพิ่ม ฟังก์ชั่นแปลงวินาทีกลับมาเป็น ชั่วโมง นาที วินาที โดยไม่ใช่ฟังก์ชั่นช่วยเหลืออื่นๆของ python (~~import~~) ถ้าส่วนของ ชั่วโมง นาที วินาที เป็นศูนย์ ไม่ต้องแสดง"
      ],
      "metadata": {
        "id": "JMvgwO7tgxSZ"
      }
    },
    {
      "cell_type": "markdown",
      "metadata": {
        "id": "sSySEFHNbPql"
      },
      "source": [
        "# HW 4\n",
        "#### เขียน function ตัดเกรด โดยที่ input เป็นคะแนน(0-100) , output เป็นเกรด (F-A)\n",
        "#### วนลูปตัดเกรด input = [1,50,65,90,101,-5,49]"
      ]
    },
    {
      "cell_type": "markdown",
      "metadata": {
        "id": "c3TDhZHzbPqm"
      },
      "source": [
        "##### กำหนด\n",
        "      ถ้าคะแนนอยู่ระหว่างมากกว่าหรือเท่ากับ  0  แต่น้อยกว่า 50 จะได้เกรด F\n",
        "      ถ้าคะแนนอยู่ระหว่างมากกว่าหรือเท่ากับ 50 แต่น้อยกว่า 55 จะได้เกรด D\n",
        "      ถ้าคะแนนอยู่ระหว่างมากกว่าหรือเท่ากับ 55 แต่น้อยกว่า 60 จะได้เกรด D+\n",
        "      ถ้าคะแนนอยู่ระหว่างมากกว่าหรือเท่ากับ 60 แต่น้อยกว่า 65 จะได้เกรด C\n",
        "      ถ้าคะแนนอยู่ระหว่างมากกว่าหรือเท่ากับ 65 แต่น้อยกว่า 70 จะได้เกรด C+\n",
        "      ถ้าคะแนนอยู่ระหว่างมากกว่าหรือเท่ากับ 70 แต่น้อยกว่า 75 จะได้เกรด B\n",
        "      ถ้าคะแนนอยู่ระหว่างมากกว่าหรือเท่ากับ 75 แต่น้อยกว่า 80 จะได้เกรด B+\n",
        "      ถ้าคะแนนอยู่ระหว่างมากกว่าหรือเท่ากับ 80  จะได้เกรด A\n",
        "      แต่ว่าค่าคะแนนจะต้องไม่ต่ำกว่า 0 และมากกว่า 100 ไม่งั้นจะเกิด error"
      ]
    },
    {
      "cell_type": "markdown",
      "source": [
        "## ```&```, ```|```, ```in```, ```is```   :  Operator อื่นๆ"
      ],
      "metadata": {
        "id": "HSMQXdmmipMp"
      }
    },
    {
      "cell_type": "code",
      "source": [
        "if (1>0) & (0>-1):\n",
        "    print(True & True)"
      ],
      "metadata": {
        "id": "ES5d1z0ti306",
        "outputId": "4bc178b2-a5d8-4476-e02c-c87ddd5b91ce",
        "colab": {
          "base_uri": "https://localhost:8080/"
        }
      },
      "execution_count": null,
      "outputs": [
        {
          "output_type": "stream",
          "name": "stdout",
          "text": [
            "True\n"
          ]
        }
      ]
    },
    {
      "cell_type": "code",
      "source": [
        "if 'T' in 'Thanapong':\n",
        "    print('T in Thanapong')"
      ],
      "metadata": {
        "id": "3COnyOTKipAc",
        "outputId": "d50e2919-9cbc-41fb-d20f-6e5a371ebba1",
        "colab": {
          "base_uri": "https://localhost:8080/"
        }
      },
      "execution_count": null,
      "outputs": [
        {
          "output_type": "stream",
          "name": "stdout",
          "text": [
            "T in Thanapong\n"
          ]
        }
      ]
    },
    {
      "cell_type": "code",
      "source": [
        "def return_nothing(x):\n",
        "    x = x+1"
      ],
      "metadata": {
        "id": "01N3TOG9k3ti"
      },
      "execution_count": null,
      "outputs": []
    },
    {
      "cell_type": "code",
      "source": [
        "a = return_nothing(5)"
      ],
      "metadata": {
        "id": "drWbuBwNldOL"
      },
      "execution_count": null,
      "outputs": []
    },
    {
      "cell_type": "code",
      "source": [
        "if a is None:\n",
        "    print('x is null')"
      ],
      "metadata": {
        "id": "pOj0pkEEkbuW",
        "outputId": "29d5bf18-d242-40f3-a542-26c39aa2fcca",
        "colab": {
          "base_uri": "https://localhost:8080/"
        }
      },
      "execution_count": null,
      "outputs": [
        {
          "output_type": "stream",
          "name": "stdout",
          "text": [
            "x is null\n"
          ]
        }
      ]
    },
    {
      "cell_type": "code",
      "source": [],
      "metadata": {
        "id": "y1ET-H8ylyxP"
      },
      "execution_count": null,
      "outputs": []
    },
    {
      "cell_type": "markdown",
      "metadata": {
        "id": "Bg3vVE3GbPqn"
      },
      "source": [
        "# Finish"
      ]
    }
  ]
}