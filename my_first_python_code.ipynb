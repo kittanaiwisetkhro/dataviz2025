{
  "nbformat": 4,
  "nbformat_minor": 0,
  "metadata": {
    "colab": {
      "provenance": [],
      "toc_visible": true,
      "authorship_tag": "ABX9TyN12KYtdI9ULsBVKVHtkcTC",
      "include_colab_link": true
    },
    "kernelspec": {
      "name": "python3",
      "display_name": "Python 3"
    },
    "language_info": {
      "name": "python"
    }
  },
  "cells": [
    {
      "cell_type": "markdown",
      "metadata": {
        "id": "view-in-github",
        "colab_type": "text"
      },
      "source": [
        "<a href=\"https://colab.research.google.com/github/kittanaiwisetkhro/dataviz2025/blob/main/my_first_python_code.ipynb\" target=\"_parent\"><img src=\"https://colab.research.google.com/assets/colab-badge.svg\" alt=\"Open In Colab\"/></a>"
      ]
    },
    {
      "cell_type": "markdown",
      "source": [
        "Here we can write using **Markdown**\n",
        "# **intro**"
      ],
      "metadata": {
        "id": "MdatX2ErHyNf"
      }
    },
    {
      "cell_type": "markdown",
      "source": [
        "## **name**"
      ],
      "metadata": {
        "id": "5iUnoADlIN1_"
      }
    },
    {
      "cell_type": "code",
      "execution_count": 1,
      "metadata": {
        "colab": {
          "base_uri": "https://localhost:8080/"
        },
        "id": "zOUrM1_9GGDJ",
        "outputId": "33ded53e-0ea2-4f24-9f7c-ec35cab0d686"
      },
      "outputs": [
        {
          "output_type": "stream",
          "name": "stdout",
          "text": [
            "Kittanai\n"
          ]
        }
      ],
      "source": [
        "print(\"Kittanai\")"
      ]
    },
    {
      "cell_type": "markdown",
      "source": [
        "## **surname**"
      ],
      "metadata": {
        "id": "nihpvgCqIj5J"
      }
    },
    {
      "cell_type": "code",
      "source": [
        "print('Wisetkhro')"
      ],
      "metadata": {
        "colab": {
          "base_uri": "https://localhost:8080/"
        },
        "id": "Vh1iS4TbHUd5",
        "outputId": "f0799454-1e4d-4e7b-85a2-ff3de2558493"
      },
      "execution_count": 3,
      "outputs": [
        {
          "output_type": "stream",
          "name": "stdout",
          "text": [
            "Wisetkhro\n"
          ]
        }
      ]
    },
    {
      "cell_type": "markdown",
      "source": [],
      "metadata": {
        "id": "WyG5Yd9pKZO4"
      }
    }
  ]
}